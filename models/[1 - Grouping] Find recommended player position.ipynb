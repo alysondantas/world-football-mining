{
 "cells": [
  {
   "cell_type": "code",
   "execution_count": 1,
   "metadata": {},
   "outputs": [
    {
     "data": {
      "text/html": [
       "<div>\n",
       "<style scoped>\n",
       "    .dataframe tbody tr th:only-of-type {\n",
       "        vertical-align: middle;\n",
       "    }\n",
       "\n",
       "    .dataframe tbody tr th {\n",
       "        vertical-align: top;\n",
       "    }\n",
       "\n",
       "    .dataframe thead th {\n",
       "        text-align: right;\n",
       "    }\n",
       "</style>\n",
       "<table border=\"1\" class=\"dataframe\">\n",
       "  <thead>\n",
       "    <tr style=\"text-align: right;\">\n",
       "      <th></th>\n",
       "      <th>special</th>\n",
       "      <th>age</th>\n",
       "      <th>height_cm</th>\n",
       "      <th>weight_kg</th>\n",
       "      <th>real_face</th>\n",
       "      <th>eur_value</th>\n",
       "      <th>eur_wage</th>\n",
       "      <th>overall</th>\n",
       "      <th>potential</th>\n",
       "      <th>pac</th>\n",
       "      <th>...</th>\n",
       "      <th>nationality_Zambia</th>\n",
       "      <th>nationality_Zimbabwe</th>\n",
       "      <th>work_rate_att_High</th>\n",
       "      <th>work_rate_att_Low</th>\n",
       "      <th>work_rate_att_Medium</th>\n",
       "      <th>work_rate_def_High</th>\n",
       "      <th>work_rate_def_Low</th>\n",
       "      <th>work_rate_def_Medium</th>\n",
       "      <th>preferred_foot_Left</th>\n",
       "      <th>preferred_foot_Right</th>\n",
       "    </tr>\n",
       "  </thead>\n",
       "  <tbody>\n",
       "    <tr>\n",
       "      <th>0</th>\n",
       "      <td>0.959693</td>\n",
       "      <td>0.516129</td>\n",
       "      <td>0.60</td>\n",
       "      <td>0.508197</td>\n",
       "      <td>True</td>\n",
       "      <td>0.776423</td>\n",
       "      <td>1.000000</td>\n",
       "      <td>1.000000</td>\n",
       "      <td>1.000000</td>\n",
       "      <td>0.920000</td>\n",
       "      <td>...</td>\n",
       "      <td>0</td>\n",
       "      <td>0</td>\n",
       "      <td>1</td>\n",
       "      <td>0</td>\n",
       "      <td>0</td>\n",
       "      <td>0</td>\n",
       "      <td>1</td>\n",
       "      <td>0</td>\n",
       "      <td>0</td>\n",
       "      <td>1</td>\n",
       "    </tr>\n",
       "    <tr>\n",
       "      <th>1</th>\n",
       "      <td>0.914907</td>\n",
       "      <td>0.451613</td>\n",
       "      <td>0.30</td>\n",
       "      <td>0.377049</td>\n",
       "      <td>True</td>\n",
       "      <td>0.853659</td>\n",
       "      <td>1.000000</td>\n",
       "      <td>0.979167</td>\n",
       "      <td>0.979167</td>\n",
       "      <td>0.906667</td>\n",
       "      <td>...</td>\n",
       "      <td>0</td>\n",
       "      <td>0</td>\n",
       "      <td>0</td>\n",
       "      <td>0</td>\n",
       "      <td>1</td>\n",
       "      <td>0</td>\n",
       "      <td>0</td>\n",
       "      <td>1</td>\n",
       "      <td>1</td>\n",
       "      <td>0</td>\n",
       "    </tr>\n",
       "    <tr>\n",
       "      <th>2</th>\n",
       "      <td>0.877799</td>\n",
       "      <td>0.290323</td>\n",
       "      <td>0.40</td>\n",
       "      <td>0.311475</td>\n",
       "      <td>True</td>\n",
       "      <td>1.000000</td>\n",
       "      <td>0.495575</td>\n",
       "      <td>0.958333</td>\n",
       "      <td>1.000000</td>\n",
       "      <td>0.946667</td>\n",
       "      <td>...</td>\n",
       "      <td>0</td>\n",
       "      <td>0</td>\n",
       "      <td>1</td>\n",
       "      <td>0</td>\n",
       "      <td>0</td>\n",
       "      <td>0</td>\n",
       "      <td>0</td>\n",
       "      <td>1</td>\n",
       "      <td>0</td>\n",
       "      <td>1</td>\n",
       "    </tr>\n",
       "    <tr>\n",
       "      <th>3</th>\n",
       "      <td>1.000000</td>\n",
       "      <td>0.451613</td>\n",
       "      <td>0.54</td>\n",
       "      <td>0.606557</td>\n",
       "      <td>True</td>\n",
       "      <td>0.788618</td>\n",
       "      <td>0.902655</td>\n",
       "      <td>0.958333</td>\n",
       "      <td>0.958333</td>\n",
       "      <td>0.813333</td>\n",
       "      <td>...</td>\n",
       "      <td>0</td>\n",
       "      <td>0</td>\n",
       "      <td>1</td>\n",
       "      <td>0</td>\n",
       "      <td>0</td>\n",
       "      <td>0</td>\n",
       "      <td>0</td>\n",
       "      <td>1</td>\n",
       "      <td>0</td>\n",
       "      <td>1</td>\n",
       "    </tr>\n",
       "    <tr>\n",
       "      <th>4</th>\n",
       "      <td>0.489443</td>\n",
       "      <td>0.483871</td>\n",
       "      <td>0.76</td>\n",
       "      <td>0.704918</td>\n",
       "      <td>True</td>\n",
       "      <td>0.495935</td>\n",
       "      <td>0.407080</td>\n",
       "      <td>0.958333</td>\n",
       "      <td>0.958333</td>\n",
       "      <td>0.933333</td>\n",
       "      <td>...</td>\n",
       "      <td>0</td>\n",
       "      <td>0</td>\n",
       "      <td>0</td>\n",
       "      <td>0</td>\n",
       "      <td>1</td>\n",
       "      <td>0</td>\n",
       "      <td>0</td>\n",
       "      <td>1</td>\n",
       "      <td>0</td>\n",
       "      <td>1</td>\n",
       "    </tr>\n",
       "  </tbody>\n",
       "</table>\n",
       "<p>5 rows × 1014 columns</p>\n",
       "</div>"
      ],
      "text/plain": [
       "    special       age  height_cm  weight_kg  real_face  eur_value  eur_wage  \\\n",
       "0  0.959693  0.516129       0.60   0.508197       True   0.776423  1.000000   \n",
       "1  0.914907  0.451613       0.30   0.377049       True   0.853659  1.000000   \n",
       "2  0.877799  0.290323       0.40   0.311475       True   1.000000  0.495575   \n",
       "3  1.000000  0.451613       0.54   0.606557       True   0.788618  0.902655   \n",
       "4  0.489443  0.483871       0.76   0.704918       True   0.495935  0.407080   \n",
       "\n",
       "    overall  potential       pac          ...           nationality_Zambia  \\\n",
       "0  1.000000   1.000000  0.920000          ...                            0   \n",
       "1  0.979167   0.979167  0.906667          ...                            0   \n",
       "2  0.958333   1.000000  0.946667          ...                            0   \n",
       "3  0.958333   0.958333  0.813333          ...                            0   \n",
       "4  0.958333   0.958333  0.933333          ...                            0   \n",
       "\n",
       "   nationality_Zimbabwe  work_rate_att_High  work_rate_att_Low  \\\n",
       "0                     0                   1                  0   \n",
       "1                     0                   0                  0   \n",
       "2                     0                   1                  0   \n",
       "3                     0                   1                  0   \n",
       "4                     0                   0                  0   \n",
       "\n",
       "   work_rate_att_Medium  work_rate_def_High  work_rate_def_Low  \\\n",
       "0                     0                   0                  1   \n",
       "1                     1                   0                  0   \n",
       "2                     0                   0                  0   \n",
       "3                     0                   0                  0   \n",
       "4                     1                   0                  0   \n",
       "\n",
       "   work_rate_def_Medium  preferred_foot_Left  preferred_foot_Right  \n",
       "0                     0                    0                     1  \n",
       "1                     1                    1                     0  \n",
       "2                     1                    0                     1  \n",
       "3                     1                    0                     1  \n",
       "4                     1                    0                     1  \n",
       "\n",
       "[5 rows x 1014 columns]"
      ]
     },
     "execution_count": 1,
     "metadata": {},
     "output_type": "execute_result"
    }
   ],
   "source": [
    "import pandas as pd\n",
    "import numpy as np\n",
    "import matplotlib.pyplot as plt\n",
    "\n",
    "fifa_df = pd.read_csv('../preprocessing/clean_data_normalized.csv')\n",
    "fifa_df.head()"
   ]
  },
  {
   "cell_type": "code",
   "execution_count": 2,
   "metadata": {},
   "outputs": [
    {
     "data": {
      "text/plain": [
       "['rs', 'rw', 'rcm', 'rdm', 'rcb', 'gk']"
      ]
     },
     "execution_count": 2,
     "metadata": {},
     "output_type": "execute_result"
    }
   ],
   "source": [
    "#preferences = 'prefers_rs, prefers_rw, prefers_rf, prefers_ram, prefers_rcm, prefers_rm, prefers_rdm, prefers_rcb, prefers_rb, prefers_rwb, prefers_st, prefers_lw, prefers_cf, prefers_cam, prefers_cm, prefers_lm, prefers_cdm, prefers_cb, prefers_lb, prefers_lwb, prefers_ls, prefers_lf, prefers_lam, prefers_lcm, prefers_ldm, prefers_lcb, prefers_gk'\n",
    "#preferences = preferences.replace(' ', '').split(',')\n",
    "\n",
    "original_positions = 'rs, rw, rf, ram, rcm, rm, rdm, rcb, rb, rwb, st, lw, cf, cam, cm, lm, cdm, cb, lb, lwb, ls, lf, lam, lcm, ldm, lcb, gk'\n",
    "original_positions = original_positions.replace(' ', '').split(',')\n",
    "\n",
    "#Filtrando posições que não foram eliminadas pelo filtro de correlação\n",
    "positions = [p for p in original_positions if p in fifa_df.columns]\n",
    "positions"
   ]
  },
  {
   "cell_type": "code",
   "execution_count": 3,
   "metadata": {},
   "outputs": [],
   "source": [
    "# Define a posição do jogador com base na que ele é melhor e cria uma coluna nova p/ armazenar isso\n",
    "fifa_df['best_pos'] = fifa_df[positions].idxmax(axis='columns')\n",
    "#positions_df = fifa_df[positions]\n",
    "# Apaga as outras informações sobre a performance do jogador em cada posição\n",
    "fifa_df.drop(positions, axis='columns', inplace=True)"
   ]
  },
  {
   "cell_type": "code",
   "execution_count": 6,
   "metadata": {},
   "outputs": [],
   "source": [
    "# Escolha do modelo de clustering\n",
    "from sklearn.cluster import KMeans\n",
    "from  sklearn.cluster import AgglomerativeClustering\n",
    "from  sklearn.cluster import DBSCAN\n",
    "from sklearn.cluster import SpectralClustering\n",
    "kmeans = KMeans(n_clusters=1*len(positions), max_iter=1000)\n",
    "#kmeans = AgglomerativeClustering(n_clusters=1*len(positions), linkage='complete')\n",
    "#kmeans = SpectralClustering(n_clusters=len(positions))"
   ]
  },
  {
   "cell_type": "code",
   "execution_count": 7,
   "metadata": {},
   "outputs": [],
   "source": [
    "# Como vai agrupar p/ descobrir a posição, tira a posição do dataset de treinamento\n",
    "data_X = fifa_df.drop('best_pos', axis='columns')\n",
    "# Agrupa os dados e pega o grupo de cada amostra\n",
    "kmeans_labels = kmeans.fit_predict(data_X)"
   ]
  },
  {
   "cell_type": "code",
   "execution_count": 8,
   "metadata": {},
   "outputs": [],
   "source": [
    "# Cria uma nova coluna com os grupos preditos pelo kmeans\n",
    "fifa_df['kmeans_labels'] = pd.Series(kmeans_labels)"
   ]
  },
  {
   "cell_type": "code",
   "execution_count": 9,
   "metadata": {},
   "outputs": [
    {
     "data": {
      "text/plain": [
       "{(0, 'rw'): 1506,\n",
       " (0, 'rs'): 1251,\n",
       " (0, 'rcm'): 313,\n",
       " (0, 'rdm'): 76,\n",
       " (0, 'rcb'): 7,\n",
       " (1, 'rcb'): 3050,\n",
       " (1, 'rdm'): 590,\n",
       " (1, 'rcm'): 2,\n",
       " (1, 'rw'): 1,\n",
       " (2, 'rdm'): 1057,\n",
       " (2, 'rcb'): 629,\n",
       " (2, 'rw'): 539,\n",
       " (2, 'rcm'): 414,\n",
       " (2, 'rs'): 19,\n",
       " (3, 'gk'): 2021,\n",
       " (4, 'rdm'): 2024,\n",
       " (4, 'rcm'): 923,\n",
       " (4, 'rcb'): 133,\n",
       " (4, 'rw'): 51,\n",
       " (4, 'rs'): 3,\n",
       " (5, 'rw'): 1425,\n",
       " (5, 'rs'): 814,\n",
       " (5, 'rdm'): 570,\n",
       " (5, 'rcm'): 436,\n",
       " (5, 'rcb'): 140}"
      ]
     },
     "execution_count": 9,
     "metadata": {},
     "output_type": "execute_result"
    }
   ],
   "source": [
    "# Agrupa o dataset pelas labels obtidas por clustering e pega a quantidade jogadores em cada posição\n",
    "clusters_positions = fifa_df.groupby('kmeans_labels')['best_pos'].value_counts().to_dict()\n",
    "clusters_positions"
   ]
  },
  {
   "cell_type": "code",
   "execution_count": 10,
   "metadata": {},
   "outputs": [
    {
     "data": {
      "text/plain": [
       "(6, 6)"
      ]
     },
     "execution_count": 10,
     "metadata": {},
     "output_type": "execute_result"
    }
   ],
   "source": [
    "# A label do cluster é a posição mais frequente nele. As 3 células abaixo calculam a posição dos jogadores de cada grupo\n",
    "position2cluster = {}\n",
    "curr_max = {k:0 for k in positions}\n",
    "cp = {}\n",
    "\n",
    "for k, v in clusters_positions.items():\n",
    "    cluster, pos = k\n",
    "    candidates = position2cluster.get(pos, {})\n",
    "    candidates[cluster] = v\n",
    "    position2cluster[pos] = candidates\n",
    "    \n",
    "len(positions), len(position2cluster.keys())"
   ]
  },
  {
   "cell_type": "code",
   "execution_count": 11,
   "metadata": {},
   "outputs": [
    {
     "data": {
      "text/plain": [
       "{'gk': 3, 'rcb': 1, 'rcm': 4, 'rdm': 4, 'rs': 0, 'rw': 0}"
      ]
     },
     "execution_count": 11,
     "metadata": {},
     "output_type": "execute_result"
    }
   ],
   "source": [
    "df = pd.DataFrame(position2cluster)\n",
    "max_values = df.idxmax().to_dict()\n",
    "max_values"
   ]
  },
  {
   "cell_type": "code",
   "execution_count": 12,
   "metadata": {},
   "outputs": [
    {
     "name": "stdout",
     "output_type": "stream",
     "text": [
      "5\n",
      "4\n",
      "3\n",
      "2\n",
      "1\n",
      "0\n"
     ]
    },
    {
     "data": {
      "text/plain": [
       "{'gk': 3, 'rcb': 1, 'rcm': 4, 'rdm': 2, 'rs': 0, 'rw': 5}"
      ]
     },
     "execution_count": 12,
     "metadata": {},
     "output_type": "execute_result"
    }
   ],
   "source": [
    "final_clusters = {p:0 for p in df.columns}\n",
    "\n",
    "for pos in final_clusters:\n",
    "    final_clusters[pos] = max_values[pos]\n",
    "    df.drop(max_values[pos], axis=0, inplace=True)\n",
    "    df.drop(pos, axis='columns', inplace=True)\n",
    "    if len(df)>0:\n",
    "        max_values = df.idxmax().to_dict()\n",
    "    print(len(df))\n",
    "\n",
    "final_clusters"
   ]
  },
  {
   "cell_type": "code",
   "execution_count": 13,
   "metadata": {},
   "outputs": [
    {
     "data": {
      "text/plain": [
       "count     17994\n",
       "unique        2\n",
       "top        True\n",
       "freq       9727\n",
       "dtype: object"
      ]
     },
     "execution_count": 13,
     "metadata": {},
     "output_type": "execute_result"
    }
   ],
   "source": [
    "cluster2name = inv_map = {v: k for k, v in final_clusters.items()} # invertendo o dict\n",
    "fifa_df.kmeans_labels.replace(cluster2name, inplace=True)\n",
    "(fifa_df.kmeans_labels == fifa_df.best_pos).describe()"
   ]
  },
  {
   "cell_type": "code",
   "execution_count": 14,
   "metadata": {},
   "outputs": [],
   "source": [
    "# Reduzir as features em 2 para ver a distribuição de grupos\n",
    "from sklearn.decomposition import PCA\n",
    "pca = PCA(2)\n",
    "data_x = fifa_df.drop(['best_pos', 'kmeans_labels'], axis='columns')\n",
    "data_x = pca.fit_transform(data_x)"
   ]
  },
  {
   "cell_type": "code",
   "execution_count": 15,
   "metadata": {},
   "outputs": [
    {
     "data": {
      "text/html": [
       "<div>\n",
       "<style scoped>\n",
       "    .dataframe tbody tr th:only-of-type {\n",
       "        vertical-align: middle;\n",
       "    }\n",
       "\n",
       "    .dataframe tbody tr th {\n",
       "        vertical-align: top;\n",
       "    }\n",
       "\n",
       "    .dataframe thead th {\n",
       "        text-align: right;\n",
       "    }\n",
       "</style>\n",
       "<table border=\"1\" class=\"dataframe\">\n",
       "  <thead>\n",
       "    <tr style=\"text-align: right;\">\n",
       "      <th></th>\n",
       "      <th>x</th>\n",
       "      <th>y</th>\n",
       "      <th>label</th>\n",
       "    </tr>\n",
       "  </thead>\n",
       "  <tbody>\n",
       "    <tr>\n",
       "      <th>0</th>\n",
       "      <td>-2.285954</td>\n",
       "      <td>-1.547437</td>\n",
       "      <td>rw</td>\n",
       "    </tr>\n",
       "    <tr>\n",
       "      <th>1</th>\n",
       "      <td>-1.766819</td>\n",
       "      <td>-1.374522</td>\n",
       "      <td>rs</td>\n",
       "    </tr>\n",
       "    <tr>\n",
       "      <th>2</th>\n",
       "      <td>-1.938907</td>\n",
       "      <td>-1.501213</td>\n",
       "      <td>rw</td>\n",
       "    </tr>\n",
       "    <tr>\n",
       "      <th>3</th>\n",
       "      <td>-1.589317</td>\n",
       "      <td>-0.997725</td>\n",
       "      <td>rw</td>\n",
       "    </tr>\n",
       "    <tr>\n",
       "      <th>4</th>\n",
       "      <td>1.970488</td>\n",
       "      <td>-0.518161</td>\n",
       "      <td>gk</td>\n",
       "    </tr>\n",
       "  </tbody>\n",
       "</table>\n",
       "</div>"
      ],
      "text/plain": [
       "          x         y label\n",
       "0 -2.285954 -1.547437    rw\n",
       "1 -1.766819 -1.374522    rs\n",
       "2 -1.938907 -1.501213    rw\n",
       "3 -1.589317 -0.997725    rw\n",
       "4  1.970488 -0.518161    gk"
      ]
     },
     "execution_count": 15,
     "metadata": {},
     "output_type": "execute_result"
    }
   ],
   "source": [
    "data_x = pd.DataFrame(data_x, columns=['x','y'])\n",
    "data_x['label'] = fifa_df.kmeans_labels\n",
    "data_x.head()"
   ]
  },
  {
   "cell_type": "code",
   "execution_count": 55,
   "metadata": {},
   "outputs": [
    {
     "data": {
      "image/png": "[encoded data removed]",
      "text/plain": [
       "<Figure size 360x360 with 1 Axes>"
      ]
     },
     "metadata": {},
     "output_type": "display_data"
    }
   ],
   "source": [
    "import seaborn as sns\n",
    "#plot data with seaborn\n",
    "group_plot = sns.lmplot(data=data_x, x='x', y='y', hue='label', fit_reg=False, legend=False, legend_out=True)\n",
    "plt.title(\"Agrupamento dos Jogadores por Posição\")\n",
    "plt.legend().set_title(\"Posição\")"
   ]
  },
  {
   "cell_type": "code",
   "execution_count": 20,
   "metadata": {},
   "outputs": [
    {
     "data": {
      "text/html": [
       "<div>\n",
       "<style scoped>\n",
       "    .dataframe tbody tr th:only-of-type {\n",
       "        vertical-align: middle;\n",
       "    }\n",
       "\n",
       "    .dataframe tbody tr th {\n",
       "        vertical-align: top;\n",
       "    }\n",
       "\n",
       "    .dataframe thead th {\n",
       "        text-align: right;\n",
       "    }\n",
       "</style>\n",
       "<table border=\"1\" class=\"dataframe\">\n",
       "  <thead>\n",
       "    <tr style=\"text-align: right;\">\n",
       "      <th></th>\n",
       "      <th>rs</th>\n",
       "      <th>rw</th>\n",
       "      <th>rcm</th>\n",
       "      <th>rdm</th>\n",
       "      <th>rcb</th>\n",
       "      <th>gk</th>\n",
       "    </tr>\n",
       "  </thead>\n",
       "  <tbody>\n",
       "    <tr>\n",
       "      <th>rs</th>\n",
       "      <td>1251</td>\n",
       "      <td>1506</td>\n",
       "      <td>313</td>\n",
       "      <td>76</td>\n",
       "      <td>7</td>\n",
       "      <td>0</td>\n",
       "    </tr>\n",
       "    <tr>\n",
       "      <th>rw</th>\n",
       "      <td>814</td>\n",
       "      <td>1425</td>\n",
       "      <td>436</td>\n",
       "      <td>570</td>\n",
       "      <td>140</td>\n",
       "      <td>0</td>\n",
       "    </tr>\n",
       "    <tr>\n",
       "      <th>rcm</th>\n",
       "      <td>3</td>\n",
       "      <td>51</td>\n",
       "      <td>923</td>\n",
       "      <td>2024</td>\n",
       "      <td>133</td>\n",
       "      <td>0</td>\n",
       "    </tr>\n",
       "    <tr>\n",
       "      <th>rdm</th>\n",
       "      <td>19</td>\n",
       "      <td>539</td>\n",
       "      <td>414</td>\n",
       "      <td>1057</td>\n",
       "      <td>629</td>\n",
       "      <td>0</td>\n",
       "    </tr>\n",
       "    <tr>\n",
       "      <th>rcb</th>\n",
       "      <td>0</td>\n",
       "      <td>1</td>\n",
       "      <td>2</td>\n",
       "      <td>590</td>\n",
       "      <td>3050</td>\n",
       "      <td>0</td>\n",
       "    </tr>\n",
       "    <tr>\n",
       "      <th>gk</th>\n",
       "      <td>0</td>\n",
       "      <td>0</td>\n",
       "      <td>0</td>\n",
       "      <td>0</td>\n",
       "      <td>0</td>\n",
       "      <td>2021</td>\n",
       "    </tr>\n",
       "  </tbody>\n",
       "</table>\n",
       "</div>"
      ],
      "text/plain": [
       "       rs    rw  rcm   rdm   rcb    gk\n",
       "rs   1251  1506  313    76     7     0\n",
       "rw    814  1425  436   570   140     0\n",
       "rcm     3    51  923  2024   133     0\n",
       "rdm    19   539  414  1057   629     0\n",
       "rcb     0     1    2   590  3050     0\n",
       "gk      0     0    0     0     0  2021"
      ]
     },
     "execution_count": 20,
     "metadata": {},
     "output_type": "execute_result"
    }
   ],
   "source": [
    "from sklearn.metrics import confusion_matrix\n",
    "cm = confusion_matrix(fifa_df.kmeans_labels, fifa_df.best_pos, labels=positions)\n",
    "#index = ['true_'+a for a in positions]\n",
    "#axis = ['predicted_'+a for a in positions]\n",
    "cm = pd.DataFrame(cm, columns=positions, index=positions)"
   ]
  },
  {
   "cell_type": "code",
   "execution_count": 56,
   "metadata": {},
   "outputs": [
    {
     "data": {
      "text/plain": [
       "Text(0.5,1,'Matriz de Confusão - Posição Predita vs Posição Real')"
      ]
     },
     "execution_count": 56,
     "metadata": {},
     "output_type": "execute_result"
    },
    {
     "data": {
      "image/png": "[encoded data removed]",
      "text/plain": [
       "<Figure size 432x288 with 2 Axes>"
      ]
     },
     "metadata": {},
     "output_type": "display_data"
    }
   ],
   "source": [
    "heatmap = sns.heatmap(cm, annot=True, fmt='d',cbar_kws={'label': 'Quantidade de Jogadores'})\n",
    "heatmap.yaxis.set_ticklabels(positions, rotation=0, ha='right', fontsize=10)\n",
    "heatmap.xaxis.set_ticklabels(positions, rotation=0, ha='right', fontsize=10)\n",
    "plt.ylabel('Posição Predita')\n",
    "plt.xlabel('Posição Real')\n",
    "plt.title(\"Matriz de Confusão - Posição Predita vs Posição Real\")"
   ]
  },
  {
   "cell_type": "code",
   "execution_count": null,
   "metadata": {},
   "outputs": [],
   "source": []
  }
 ],
 "metadata": {
  "kernelspec": {
   "display_name": "Python 3",
   "language": "python",
   "name": "python3"
  },
  "language_info": {
   "codemirror_mode": {
    "name": "ipython",
    "version": 3
   },
   "file_extension": ".py",
   "mimetype": "text/x-python",
   "name": "python",
   "nbconvert_exporter": "python",
   "pygments_lexer": "ipython3",
   "version": "3.6.5"
  }
 },
 "nbformat": 4,
 "nbformat_minor": 2
}
