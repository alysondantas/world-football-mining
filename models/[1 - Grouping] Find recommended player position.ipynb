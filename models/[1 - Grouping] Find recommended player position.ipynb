{
 "cells": [
  {
   "cell_type": "code",
   "execution_count": null,
   "metadata": {},
   "outputs": [],
   "source": [
    "import pandas as pd\n",
    "import numpy as np\n",
    "import matplotlib.pyplot as plt\n",
    "\n",
    "fifa_df = pd.read_csv('../preprocessing/clean_data_normalized.csv')\n",
    "fifa_df.head()"
   ]
  },
  {
   "cell_type": "code",
   "execution_count": null,
   "metadata": {},
   "outputs": [],
   "source": [
    "gk_columns = [c for c in fifa_df.columns if 'gk' in c]\n",
    "fifa_df.drop(gk_columns, axis='columns', inplace=True)\n",
    "\n",
    "original_positions = 'rs, rw, rf, ram, rcm, rm, rdm, rcb, rb, rwb, st, lw, cf, cam, cm, lm, cdm, cb, lb, lwb, ls, lf, lam, lcm, ldm, lcb, gk'\n",
    "original_positions = original_positions.replace(' ', '').split(',')\n",
    "\n",
    "#Filtrando posições que não foram eliminadas pelo filtro de correlação\n",
    "positions = [p for p in original_positions if p in fifa_df.columns]\n",
    "positions"
   ]
  },
  {
   "cell_type": "code",
   "execution_count": null,
   "metadata": {},
   "outputs": [],
   "source": [
    "# Define a posição do jogador com base na que ele é melhor e cria uma coluna nova p/ armazenar isso\n",
    "fifa_df['best_pos'] = fifa_df[positions].idxmax(axis='columns')\n",
    "#positions_df = fifa_df[positions]\n",
    "# Apaga as outras informações sobre a performance do jogador em cada posição\n",
    "fifa_df.drop(positions, axis='columns', inplace=True)"
   ]
  },
  {
   "cell_type": "code",
   "execution_count": null,
   "metadata": {},
   "outputs": [],
   "source": [
    "# Escolha do modelo de clustering\n",
    "from sklearn.cluster import KMeans\n",
    "#from  sklearn.cluster import AgglomerativeClustering\n",
    "#from  sklearn.cluster import DBSCAN\n",
    "#from sklearn.cluster import SpectralClustering\n",
    "from sklearn.model_selection import cross_val_score\n",
    "\n",
    "kmeans = KMeans(n_clusters=len(positions), max_iter=1000)\n",
    "\n",
    "# Como vai agrupar p/ descobrir a posição, tira a posição do dataset de treinamento\n",
    "data_X = fifa_df.drop('best_pos', axis='columns')\n",
    "# Agrupa os dados e pega o grupo de cada amostra\n",
    "kmeans_labels = kmeans.fit_predict(data_X)\n",
    "\n",
    "# Cria uma nova coluna com os grupos preditos pelo kmeans\n",
    "fifa_df['kmeans_labels'] = pd.Series(kmeans_labels)"
   ]
  },
  {
   "cell_type": "code",
   "execution_count": null,
   "metadata": {},
   "outputs": [],
   "source": [
    "# Agrupa o dataset pelas labels obtidas por clustering e pega a quantidade jogadores em cada posição\n",
    "clusters_positions = fifa_df.groupby('kmeans_labels')['best_pos'].value_counts().to_dict()\n",
    "clusters_positions"
   ]
  },
  {
   "cell_type": "code",
   "execution_count": null,
   "metadata": {},
   "outputs": [],
   "source": [
    "# A label do cluster é a posição mais frequente nele. As 3 células abaixo calculam a posição dos jogadores de cada grupo\n",
    "position2cluster = {}\n",
    "curr_max = {k:0 for k in positions}\n",
    "cp = {}\n",
    "\n",
    "for k, v in clusters_positions.items():\n",
    "    cluster, pos = k\n",
    "    candidates = position2cluster.get(pos, {})\n",
    "    candidates[cluster] = v\n",
    "    position2cluster[pos] = candidates\n",
    "    \n",
    "len(positions), len(position2cluster.keys())"
   ]
  },
  {
   "cell_type": "code",
   "execution_count": null,
   "metadata": {},
   "outputs": [],
   "source": [
    "df = pd.DataFrame(position2cluster)\n",
    "max_values = df.idxmax().to_dict()\n",
    "max_values"
   ]
  },
  {
   "cell_type": "code",
   "execution_count": null,
   "metadata": {},
   "outputs": [],
   "source": [
    "final_clusters = {p:0 for p in df.columns}\n",
    "\n",
    "for pos in final_clusters:\n",
    "    final_clusters[pos] = max_values[pos]\n",
    "    df.drop(max_values[pos], axis=0, inplace=True)\n",
    "    df.drop(pos, axis='columns', inplace=True)\n",
    "    if len(df)>0:\n",
    "        max_values = df.idxmax().to_dict()\n",
    "    print(len(df))\n",
    "\n",
    "final_clusters"
   ]
  },
  {
   "cell_type": "code",
   "execution_count": null,
   "metadata": {},
   "outputs": [],
   "source": [
    "cluster2name = inv_map = {v: k for k, v in final_clusters.items()} # invertendo o dict\n",
    "fifa_df.kmeans_labels.replace(cluster2name, inplace=True)\n",
    "(fifa_df.kmeans_labels == fifa_df.best_pos).describe()"
   ]
  },
  {
   "cell_type": "code",
   "execution_count": null,
   "metadata": {},
   "outputs": [],
   "source": [
    "# Reduzir as features em 2 para ver a distribuição de grupos\n",
    "from sklearn.decomposition import PCA\n",
    "pca = PCA(2)\n",
    "data_pca = fifa_df.drop(['best_pos', 'kmeans_labels'], axis='columns')\n",
    "data_pca = pca.fit_transform(data_pca)\n",
    "\n",
    "data_pca = pd.DataFrame(data_pca, columns=['x','y'])\n",
    "data_pca['label'] = fifa_df.kmeans_labels\n",
    "data_pca.head()"
   ]
  },
  {
   "cell_type": "code",
   "execution_count": null,
   "metadata": {},
   "outputs": [],
   "source": [
    "import seaborn as sns\n",
    "#plot data with seaborn\n",
    "group_plot = sns.lmplot(data=data_pca, x='x', y='y', hue='label', fit_reg=False, legend=False, legend_out=True)\n",
    "plt.title(\"Agrupamento dos Jogadores por Posição\")\n",
    "plt.legend().set_title(\"Posição\")"
   ]
  },
  {
   "cell_type": "code",
   "execution_count": null,
   "metadata": {},
   "outputs": [],
   "source": [
    "# Reduzir as features em 3 para ver a distribuição de grupos\n",
    "from sklearn.decomposition import PCA\n",
    "pca = PCA(3)\n",
    "data_pca = fifa_df.drop(['best_pos', 'kmeans_labels'], axis='columns')\n",
    "data_pca = pca.fit_transform(data_pca)\n",
    "\n",
    "data_pca = pd.DataFrame(data_pca, columns=['x','y', 'z'])\n",
    "data_pca['label'] = fifa_df.kmeans_labels\n",
    "data_pca.head()"
   ]
  },
  {
   "cell_type": "code",
   "execution_count": null,
   "metadata": {},
   "outputs": [],
   "source": [
    "from mpl_toolkits import mplot3d\n",
    "colors = {\n",
    "    'rw': 'red',\n",
    "    'rdm': 'green',\n",
    "    'rs': 'blue',\n",
    "    'rcm': 'gray',\n",
    "    'rcb': 'purple'\n",
    "}\n",
    "data_pca['color'] = pd.Series(colors[label] for label in data_pca.label)\n",
    "fig = plt.figure()\n",
    "ax = plt.axes(projection='3d')\n",
    "\n",
    "ax.scatter(data_pca['x'], data_pca['y'], data_pca['z'], c=data_pca['color'], alpha=1, linewidth=0.5, s=30, edgecolors='none')\n",
    "\n",
    "df = data_pca.drop_duplicates('label')\n",
    "for index, row in df.iterrows():\n",
    "    ax.scatter(row['x'], row['y'], row['z'], c=row['color'] , label=row['label'], alpha=1,linewidth=0.5, s=30, edgecolors='none')\n",
    "\n",
    "#plt.legend(bbox_to_anchor=(1, 1), loc=2, borderaxespad=0.)\n",
    "plt.title('Agrupamento dos Jogadores por Posição')\n",
    "plt.legend(bbox_to_anchor=(1., .7), loc=2, borderaxespad=0.).set_title('Posição')\n",
    "ax.set_xlabel('x')\n",
    "ax.set_ylabel('y')\n",
    "ax.set_zlabel('z')\n",
    "ax.view_init(45, 200)"
   ]
  },
  {
   "cell_type": "code",
   "execution_count": null,
   "metadata": {},
   "outputs": [],
   "source": [
    "from sklearn.metrics import confusion_matrix\n",
    "cm = confusion_matrix(fifa_df.kmeans_labels, fifa_df.best_pos)\n",
    "cm = pd.DataFrame(cm, columns=positions, index=positions)\n",
    "\n",
    "heatmap = sns.heatmap(cm, annot=True, fmt='d',cbar_kws={'label': 'Quantidade de Jogadores'})\n",
    "heatmap.yaxis.set_ticklabels(positions, rotation=0, ha='right', fontsize=10)\n",
    "heatmap.xaxis.set_ticklabels(positions, rotation=0, ha='right', fontsize=10)\n",
    "\n",
    "plt.ylabel('Posição Predita')\n",
    "plt.xlabel('Posição Real')\n",
    "plt.title(\"Matriz de Confusão - Posição Predita vs Posição Real\")"
   ]
  },
  {
   "cell_type": "code",
   "execution_count": null,
   "metadata": {},
   "outputs": [],
   "source": []
  }
 ],
 "metadata": {
  "kernelspec": {
   "display_name": "Python 3",
   "language": "python",
   "name": "python3"
  },
  "language_info": {
   "codemirror_mode": {
    "name": "ipython",
    "version": 3
   },
   "file_extension": ".py",
   "mimetype": "text/x-python",
   "name": "python",
   "nbconvert_exporter": "python",
   "pygments_lexer": "ipython3",
   "version": "3.6.5"
  }
 },
 "nbformat": 4,
 "nbformat_minor": 2
}
